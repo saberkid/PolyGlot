{
 "cells": [
  {
   "cell_type": "markdown",
   "metadata": {},
   "source": [
    "<h1 align=center>Fall 2017: <a href=\"http://cs.mcgill.ca/~jpineau/comp551/\">Applied Machine Learning</a></h1>\n",
    "<h2 align=center>Tutorial 2 : Libraries and Text Classification</h2>\n",
    "<h3 align=center>Matthew Smith, Koustuv Sinha</h3>"
   ]
  },
  {
   "cell_type": "code",
   "execution_count": 1,
   "metadata": {
    "collapsed": true
   },
   "outputs": [],
   "source": [
    "from __future__ import print_function"
   ]
  },
  {
   "cell_type": "markdown",
   "metadata": {},
   "source": [
    "# Advanced Numpy: Broadcasting\n",
    "(Written by Pierre-Luc Bacon)\n",
    "\n",
    "Thinking about for-loops or Matlab's [repmat](http://www.mathworks.com/help/matlab/ref/repmat.html) ? The chances are that you can avoid all of that and leverage the powerful concept of [broadcasting](http://docs.scipy.org/doc/numpy/user/basics.broadcasting.html) in Numpy. \n",
    "\n",
    "Broadcasting allows you to essentially mimic the process of copying or repeating a given array object to match the dimensions of a larger array. Some magics is implemented under the hood (within [Blas](https://en.wikipedia.org/wiki/Basic_Linear_Algebra_Subprograms)) which makes broadcasting operations both cpu and memory efficient.\n",
    "\n",
    "<img src=\"http://www.astroml.org/_images/fig_broadcast_visual_1.png\"/>\n",
    "\n",
    "(Figure taken from [AstroML](http://www.astroml.org/book_figures/appendix/fig_broadcast_visual.html))\n",
    "\n",
    "## General Rules of Broadcasting\n",
    "\n",
    "When operating on two arrays, numpy compares their shapes element-wise, starting with the _last_ dimension. Two dimensions are compatible if:\n",
    "\n",
    "1) they are equal, or\n",
    "2) one of them is 1\n",
    "\n",
    "If these conditions are not met, an error will occur. Note again that the _arrays do not have to have the same dimensions_.\n",
    "\n",
    "For example, broadcasting will work in these cases:\n",
    "```\n",
    "A (3d array): 256 x 256 x 3\n",
    "b   (scalar):             3\n",
    "\n",
    "A (4d array): 10 x 12 x 13 x 14\n",
    "B (3d array):      12 x  1 x 14\n",
    "```\n",
    "\n",
    "But not these cases:\n",
    "```\n",
    "A (3-d array): 256 x 256 x 3\n",
    "b (2-d array):         3 x 1\n",
    "\n",
    "A (4d array): 10 x 12 x 13 x 14\n",
    "B (3d array):      12 x 14 x  1\n",
    "```\n",
    "\n",
    "Here is an example of the simplist form of broadcasting: vector-scalar addition"
   ]
  },
  {
   "cell_type": "code",
   "execution_count": 2,
   "metadata": {},
   "outputs": [
    {
     "data": {
      "text/plain": [
       "True"
      ]
     },
     "execution_count": 2,
     "metadata": {},
     "output_type": "execute_result"
    }
   ],
   "source": [
    "import numpy as np\n",
    "\n",
    "a = np.arange(4) + 0.5\n",
    "b = np.arange(4) + np.array([0.5, 0.5, 0.5, 0.5])\n",
    "(a == b).all()"
   ]
  },
  {
   "cell_type": "markdown",
   "metadata": {},
   "source": [
    "See [here](http://docs.scipy.org/doc/numpy/user/basics.broadcasting.html) for full documentation."
   ]
  },
  {
   "cell_type": "markdown",
   "metadata": {},
   "source": [
    "# Python for Text Classification"
   ]
  },
  {
   "cell_type": "markdown",
   "metadata": {},
   "source": [
    "## Loading Data\n",
    "<a id=\"datacell\"></a>\n",
    "For the rest of the notebook, please download and extract data from <a href=\"http://cs.mcgill.ca/~msmith108/data.zip\">here</a> in the same directory as the notebook file.\n",
    "\n",
    "You can use beautiful soup to parse the XML data that you have gathered. You probably have already used it.\n",
    "\n",
    "If not, you can use:\n",
    "\n",
    "```\n",
    "pip install beautifulsoup4\n",
    "```"
   ]
  },
  {
   "cell_type": "code",
   "execution_count": 3,
   "metadata": {},
   "outputs": [
    {
     "name": "stdout",
     "output_type": "stream",
     "text": [
      "<dialog>\n",
      "    <s><utt uid=\"1\">Hey, how are you?</utt><utt uid=\"2\">I’m fine thank you!</utt><utt uid=\"1\">Nice!</utt></s>\n",
      "    <s><utt uid=\"1\">Who’s around for lunch?</utt><utt uid=\"2\">Me!</utt><utt uid=\"3\">Me too!</utt></s>\n",
      "</dialog>\n",
      "\n"
     ]
    }
   ],
   "source": [
    "from bs4 import BeautifulSoup\n",
    "with open(\"./data/samplegroup_eng.xml\", mode=\"r\") as f:\n",
    "    raw_data = f.read()\n",
    "print(raw_data)"
   ]
  },
  {
   "cell_type": "code",
   "execution_count": 4,
   "metadata": {},
   "outputs": [
    {
     "name": "stdout",
     "output_type": "stream",
     "text": [
      "{\n",
      "  \"x\": [\n",
      "    \"Hey, how are you?\",\n",
      "    \"I\\u2019m fine thank you!\",\n",
      "    \"Nice!\",\n",
      "    \"Who\\u2019s around for lunch?\",\n",
      "    \"Me!\",\n",
      "    \"Me too!\"\n",
      "  ],\n",
      "  \"y\": [\n",
      "    \"1\",\n",
      "    \"2\",\n",
      "    \"1\",\n",
      "    \"1\",\n",
      "    \"2\",\n",
      "    \"3\"\n",
      "  ]\n",
      "}\n"
     ]
    }
   ],
   "source": [
    "soup = BeautifulSoup(raw_data, 'html.parser')\n",
    "utterances = soup.find_all('utt')\n",
    "dat = {\"x\": [], \"y\": []}\n",
    "for utt in utterances:\n",
    "    dat[\"x\"].append(utt.get_text())\n",
    "    dat[\"y\"].append(utt[\"uid\"])\n",
    "\n",
    "import json\n",
    "print(json.dumps(dat, indent=2))"
   ]
  },
  {
   "cell_type": "markdown",
   "metadata": {},
   "source": [
    "Since this dataset is too small, we will use the larger one downloaded [earlier](#datacell), but everything else will be mostly the same!\n",
    "\n",
    "We will be using IMDB movie review dataset from (Maas et. al. 2011). Reviews are either classified as positive or as negative."
   ]
  },
  {
   "cell_type": "code",
   "execution_count": 5,
   "metadata": {
    "collapsed": true
   },
   "outputs": [],
   "source": [
    "import os\n",
    "\n",
    "dat = {\"x\": [], \"y\": []}\n",
    "\n",
    "negative_review_path = \"./data/aclImdb/dat/neg/\"\n",
    "positive_review_path = \"./data/aclImdb/dat/pos/\"\n",
    "\n",
    "for f in os.listdir(negative_review_path):\n",
    "    with open(negative_review_path + f, mode=\"r\") as review:\n",
    "        dat[\"x\"].append(review.read())\n",
    "        dat[\"y\"].append(0)\n",
    "        \n",
    "for f in os.listdir(positive_review_path):\n",
    "    with open(positive_review_path + f, mode=\"r\") as review:\n",
    "        dat[\"x\"].append(review.read())\n",
    "        dat[\"y\"].append(1)\n",
    "\n",
    "dat[\"y\"] = np.array(dat[\"y\"])"
   ]
  },
  {
   "cell_type": "markdown",
   "metadata": {},
   "source": [
    "## Learning From Data: an Introduction to Scikit-learn\n",
    "---\n",
    "<a href=\"http://scikit-learn.org/stable/\">scikit-learn</a> is a python library which implements common learning algorithms, evaluation methods, and data processing tools with a unified interface. \n",
    "\n",
    "\n",
    "### Installation\n",
    "If you installed python using <a href=\"https://www.anaconda.com/\">Anaconda</a>, then you already have scikit learn!\n",
    "\n",
    "Otherwise you can use:\n",
    "```\n",
    "pip install -U scikit-learn\n",
    "```\n",
    "\n",
    "Or if you installed python using conda:\n",
    "```\n",
    "conda install scikit-learn\n",
    "```"
   ]
  },
  {
   "cell_type": "markdown",
   "metadata": {},
   "source": [
    "## IMPORTANT! Splitting Data Into Testing and Training Sets\n",
    "\n",
    "Right away, before doing anything else, it is often a good idea to set aside an appropriately sized training set, so that there is no chance that we overfit to this particular batch of data. Pass the `random_state` parameter here to make sure that the split is always the same! Pass shuffle=True to ensure there isnt correlation between test set and training set examples."
   ]
  },
  {
   "cell_type": "code",
   "execution_count": 6,
   "metadata": {
    "collapsed": true
   },
   "outputs": [],
   "source": [
    "from sklearn import model_selection\n",
    "split = model_selection.train_test_split(dat[\"x\"], dat[\"y\"], test_size=0.2, shuffle=True, random_state=551)\n",
    "train_x, test_x, train_y, test_y = split"
   ]
  },
  {
   "cell_type": "markdown",
   "metadata": {},
   "source": [
    "## Preprocessing Data\n",
    "In machine learning, one of the most important questions lies in the representation of the data. How can we transform our text data into data that our models can learn from?\n",
    "\n",
    "#### Idea: Represent documents as a \"Bag-of-Words\"\n",
    "Assume that the order of words doesn't matter. We can represent each document as a vector of dimension $W$, where $W$ is the number of words in the entire dataset. At each index, we can fill the vector with the number of times that word appears in that document. Alternatively we can use term-frequency inverse-document-frequency (TF-IDF), representation, with component $i$ given by:\n",
    "$$\n",
    "\\phi(d)_i = t_{di} \\cdot \\log\\left(\\frac{N}{f_i}\\right)\n",
    "$$\n",
    "Where $N$ is the size of the data set, $t_{di}$ is the number of times word $i$ is found in document $d$, and $f_i$ is the number of documents word $i$ appears in.\n",
    "\n",
    "`sklearn` has good implementations of these that are easy to use"
   ]
  },
  {
   "cell_type": "code",
   "execution_count": 7,
   "metadata": {},
   "outputs": [
    {
     "name": "stdout",
     "output_type": "stream",
     "text": [
      "Training Data Size: (20000, 68539) Testing Data Size: (5000, 68539)\n"
     ]
    }
   ],
   "source": [
    "from sklearn.feature_extraction.text import TfidfVectorizer\n",
    "\n",
    "vec = TfidfVectorizer()\n",
    "vec.fit(train_x)\n",
    "\n",
    "train_x = vec.transform(train_x)\n",
    "test_x = vec.transform(test_x)\n",
    "\n",
    "print(\"Training Data Size:\", train_x.shape, \"Testing Data Size:\", test_x.shape)"
   ]
  },
  {
   "cell_type": "markdown",
   "metadata": {},
   "source": [
    "### Training A Model\n",
    "scikit-learn makes it easy to build, test, and evaluate many different models, making it easier to figure out what the\n",
    "right model is for the data that you are working with. The `sklearn` workflow is as follows:\n",
    "\n",
    "#### 1) Select a model, and import it from the relevant module\n",
    "Choose the appropriate model for your data from the list <a href=\"http://scikit-learn.org/stable/modules/classes.html\">here</a>\n",
    "\n",
    "When doing this, consider the unique characteristics of your data, and how it corresponds to the models that you have seen in class (i.e. what assumptions does your model make about your data, and how valid are those assumptions).\n",
    "\n",
    "You will likely try many, since it is easy to do, and sometimes you cannot be certain about how your data will interact with any given model without trying."
   ]
  },
  {
   "cell_type": "code",
   "execution_count": 8,
   "metadata": {
    "collapsed": true
   },
   "outputs": [],
   "source": [
    "from sklearn.linear_model import LogisticRegression\n",
    "from sklearn.discriminant_analysis import LinearDiscriminantAnalysis\n",
    "from sklearn.naive_bayes import MultinomialNB"
   ]
  },
  {
   "cell_type": "markdown",
   "metadata": {},
   "source": [
    "#### 2) Initialize the class, passing parameters to configure the model\n",
    "We can choose our hyperparameters carefully, based on prior intuition and understanding of the model and the data,\n",
    "but this often requires tuning by grid search or random search.\n",
    "\n",
    "Lets investigate the Logistic Regression classifier first."
   ]
  },
  {
   "cell_type": "code",
   "execution_count": 20,
   "metadata": {
    "collapsed": true
   },
   "outputs": [],
   "source": [
    "lr_classifier = LogisticRegression(penalty='l2', C=1)"
   ]
  },
  {
   "cell_type": "markdown",
   "metadata": {},
   "source": [
    "#### 3) Fit the model to the data\n",
    "While implementing this step is normally one of the hard parts of machine learning, with sklearn, you simply pass the data to the model through the `fit()` method, and the model parameters are learned!"
   ]
  },
  {
   "cell_type": "code",
   "execution_count": 10,
   "metadata": {},
   "outputs": [
    {
     "name": "stdout",
     "output_type": "stream",
     "text": [
      "Training the model...Done\n"
     ]
    }
   ],
   "source": [
    "print(\"Training the model...\", end=\"\")\n",
    "lr_classifier.fit(train_x, train_y)\n",
    "print(\"Done\")"
   ]
  },
  {
   "cell_type": "markdown",
   "metadata": {},
   "source": [
    "We can inspect the learned parameters of the model after it has been fit"
   ]
  },
  {
   "cell_type": "code",
   "execution_count": 11,
   "metadata": {},
   "outputs": [
    {
     "name": "stdout",
     "output_type": "stream",
     "text": [
      "[[-3.32183573 -2.23918055 -0.29774178 ...,  0.01230198 -0.96716752\n",
      "  -0.37671159]]\n"
     ]
    }
   ],
   "source": [
    "print(lr_classifier.coef_)"
   ]
  },
  {
   "cell_type": "markdown",
   "metadata": {},
   "source": [
    "#### 4) Evaluate the model on test and validation data\n",
    "`sklearn` provides useful functions to evaluate our models, and to perform cross-validation.\n",
    "\n",
    "We can use our model to make predictions of the data!"
   ]
  },
  {
   "cell_type": "code",
   "execution_count": 12,
   "metadata": {},
   "outputs": [
    {
     "name": "stdout",
     "output_type": "stream",
     "text": [
      "Training Set Accuracy: 1.0\n"
     ]
    }
   ],
   "source": [
    "train_y_pred = lr_classifier.predict(train_x)\n",
    "print(\"Training Set Accuracy:\", (train_y == train_y_pred).mean())"
   ]
  },
  {
   "cell_type": "markdown",
   "metadata": {},
   "source": [
    "If we want to optimize the hyperparameters of our model, we should do cross validation. Let's experiment with the strength of regularization in a logistic regression model. The  `sklearn.linear_model.LogisticRegression` class accepts a parameter `C`, which represents the inverse of regularization strength."
   ]
  },
  {
   "cell_type": "code",
   "execution_count": 13,
   "metadata": {},
   "outputs": [
    {
     "name": "stdout",
     "output_type": "stream",
     "text": [
      "C: 0.001 |  Training Accuracy: 0.76345  | Validation Accuracy: 0.74865\n",
      "C: 0.01 |  Training Accuracy: 0.7944500000000001  | Validation Accuracy: 0.78415\n",
      "C: 0.1 |  Training Accuracy: 0.8617250000000001  | Validation Accuracy: 0.8417499999999999\n",
      "C: 1 |  Training Accuracy: 0.9337500000000001  | Validation Accuracy: 0.88355\n",
      "C: 10.0 |  Training Accuracy: 0.9920000000000002  | Validation Accuracy: 0.89155\n",
      "C: 100.0 |  Training Accuracy: 1.0  | Validation Accuracy: 0.8862\n",
      "C: 1000.0 |  Training Accuracy: 1.0  | Validation Accuracy: 0.8811\n"
     ]
    }
   ],
   "source": [
    "from sklearn import metrics\n",
    "\n",
    "\n",
    "# First, set up K-fold cross validation\n",
    "model_performance = []\n",
    "\n",
    "# We have a list of candidate regularization strengths\n",
    "cs = [1e-3,1e-2, 1e-1, 1, 1e1, 1e2, 1e3]\n",
    "\n",
    "for c in cs:\n",
    "    \n",
    "    # sklearn.model_selection.KFold().split(dat) returns an iterater over indicies for k-fold validation\n",
    "    folds = model_selection.KFold(5, shuffle=True, random_state=598).split(train_y)\n",
    "    \n",
    "    # store training and validation accuracies for each fold\n",
    "    train_acc = []\n",
    "    val_acc = []\n",
    "    \n",
    "    for train, val in folds:\n",
    "        \n",
    "        # Train the model\n",
    "        clf = LogisticRegression(penalty='l2', C=c, max_iter=1000)\n",
    "        clf.fit(train_x[train], train_y[train])\n",
    "        \n",
    "        # Predict\n",
    "        ypred_val = clf.predict(train_x[val])\n",
    "        ypred_train = clf.predict(train_x[train])\n",
    "        \n",
    "        # Save accuracy\n",
    "        val_acc.append((train_y[val] == ypred_val).mean())\n",
    "        train_acc.append((train_y[train] == ypred_train).mean())\n",
    "    \n",
    "    # Save accuracies for plotting\n",
    "    avg_val_acc = np.mean(val_acc)\n",
    "    avg_train_acc = np.mean(train_acc)\n",
    "    \n",
    "    # Save standard deviation for confidence bounds\n",
    "    std_val_acc = np.std(val_acc)\n",
    "    std_train_acc = np.std(train_acc)\n",
    "    \n",
    "    print(f\"C: {c} |  Training Accuracy: {avg_train_acc}  | Validation Accuracy: {avg_val_acc}\")\n",
    "    model_performance.append((avg_val_acc, avg_train_acc, std_val_acc, np.std(train_acc)))\n",
    "    \n"
   ]
  },
  {
   "cell_type": "markdown",
   "metadata": {},
   "source": [
    "[Seaborn](https://seaborn.pydata.org/index.html) is a cool package that makes your plots look way better. Simply importing it changes the defaults of matplotlib, making most plots look way nicer."
   ]
  },
  {
   "cell_type": "code",
   "execution_count": 14,
   "metadata": {
    "collapsed": true
   },
   "outputs": [],
   "source": [
    "import matplotlib.pyplot as plt\n",
    "import seaborn\n",
    "%matplotlib inline"
   ]
  },
  {
   "cell_type": "code",
   "execution_count": 40,
   "metadata": {},
   "outputs": [
    {
     "data": {
      "image/png": "[encoded data removed]",
      "text/plain": [
       "<matplotlib.figure.Figure at 0x124593630>"
      ]
     },
     "metadata": {},
     "output_type": "display_data"
    }
   ],
   "source": [
    "plt.figure(figsize=(10,6))\n",
    "plt.plot(cs,[p[0] for p in model_performance],'o-', color=\"g\")\n",
    "plt.plot(cs,[p[1] for p in model_performance],'o-', color=\"r\")\n",
    "plt.fill_between(cs, [p[0] + p[2] for p in model_performance],\n",
    "                     [p[0] - p[2] for p in model_performance], alpha=0.1, color=\"g\")\n",
    "plt.fill_between(cs, [p[1] + p[3] for p in model_performance],\n",
    "                     [p[1] - p[3] for p in model_performance], alpha=0.1, color=\"r\")\n",
    "plt.title(\"Regularization Strength in Text Classification\")\n",
    "plt.xscale('log')\n",
    "plt.xlabel(\"Inverse Regularization Coefficient\")\n",
    "plt.ylabel(\"Model Accuracy\")\n",
    "plt.legend([\"Validation Accuracy\", \"Training Accuracy\"])\n",
    "plt.show()"
   ]
  },
  {
   "cell_type": "markdown",
   "metadata": {},
   "source": [
    "scikit learn also allows us to do grid search automatically, and in parallel. This allows us to optimize our models over combinations of hyperparameters. We will demonstrate this, and some more evaluation tools on the famous \"iris\" toy dataset"
   ]
  },
  {
   "cell_type": "code",
   "execution_count": 16,
   "metadata": {
    "collapsed": true
   },
   "outputs": [],
   "source": [
    "from sklearn import datasets\n",
    "from sklearn.svm import SVC\n",
    "\n",
    "dat = datasets.load_iris()\n",
    "split = model_selection.train_test_split(dat.data[:,:2], dat.target, test_size=0.2, shuffle=True, random_state=551)\n",
    "train_x, test_x, train_y, test_y = split"
   ]
  },
  {
   "cell_type": "markdown",
   "metadata": {},
   "source": [
    "We set up the candidate parameters for our grid search beforehand. When we call the `fit` method, all possible combinations of these parameters will be tried. When we set n_jobs to -1, sklearn will automatically parallelize our grid search, using as many cores as are available, and fitting all of the models at once, making grid search must faster."
   ]
  },
  {
   "cell_type": "code",
   "execution_count": 17,
   "metadata": {},
   "outputs": [
    {
     "name": "stdout",
     "output_type": "stream",
     "text": [
      "The Best Estimator Was:\n",
      "SVC(C=1000, cache_size=200, class_weight=None, coef0=0.0,\n",
      "  decision_function_shape='ovr', degree=3, gamma=0.001, kernel='rbf',\n",
      "  max_iter=-1, probability=False, random_state=None, shrinking=True,\n",
      "  tol=0.001, verbose=False)\n",
      "With Accuracy: 0.8166666666666667\n",
      "Grid scores on train set:\n",
      "0.358 (+/-0.000) for {'C': 1, 'gamma': 0.001, 'kernel': 'rbf'}\n",
      "0.358 (+/-0.000) for {'C': 1, 'gamma': 0.0001, 'kernel': 'rbf'}\n",
      "0.583 (+/-0.000) for {'C': 10, 'gamma': 0.001, 'kernel': 'rbf'}\n",
      "0.358 (+/-0.000) for {'C': 10, 'gamma': 0.0001, 'kernel': 'rbf'}\n",
      "0.808 (+/-0.000) for {'C': 100, 'gamma': 0.001, 'kernel': 'rbf'}\n",
      "0.583 (+/-0.000) for {'C': 100, 'gamma': 0.0001, 'kernel': 'rbf'}\n",
      "0.817 (+/-0.000) for {'C': 1000, 'gamma': 0.001, 'kernel': 'rbf'}\n",
      "0.808 (+/-0.000) for {'C': 1000, 'gamma': 0.0001, 'kernel': 'rbf'}\n",
      "0.808 (+/-0.000) for {'C': 1, 'kernel': 'linear'}\n",
      "0.817 (+/-0.000) for {'C': 10, 'kernel': 'linear'}\n",
      "0.817 (+/-0.000) for {'C': 100, 'kernel': 'linear'}\n",
      "0.817 (+/-0.000) for {'C': 1000, 'kernel': 'linear'}\n"
     ]
    }
   ],
   "source": [
    "search_parameters = [\n",
    "    {\n",
    "        'kernel': ['rbf'],\n",
    "        'gamma': [1e-3, 1e-4],\n",
    "        'C': [1, 10, 100, 1000]\n",
    "    },\n",
    "    {\n",
    "        'kernel': ['linear'],\n",
    "         'C': [1, 10, 100, 1000]\n",
    "    }\n",
    "]\n",
    "\n",
    "svm = model_selection.GridSearchCV(SVC(), search_parameters, cv=3, n_jobs=-1)\n",
    "svm.fit(train_x, train_y)\n",
    "print(\"The Best Estimator Was:\")\n",
    "print(svm.best_estimator_)\n",
    "print(f\"With Accuracy: {svm.best_score_ }\")\n",
    "print(\"Grid scores on train set:\")\n",
    "for params, mean_score, scores in zip(svm.cv_results_[\"params\"], svm.cv_results_[\"mean_test_score\"],  svm.cv_results_[\"std_test_score\"]):\n",
    "    print(\"%0.3f (+/-%0.03f) for %r\"%(mean_score, scores.std() / 2, params))"
   ]
  },
  {
   "cell_type": "markdown",
   "metadata": {},
   "source": [
    "The grid search model that we just trained will automatically use the best model in future calls to `predict`"
   ]
  },
  {
   "cell_type": "code",
   "execution_count": 18,
   "metadata": {},
   "outputs": [
    {
     "name": "stdout",
     "output_type": "stream",
     "text": [
      "Testing Accuracy: 0.7666666666666667\n"
     ]
    }
   ],
   "source": [
    "test_y_hat = svm.predict(test_x)\n",
    "print(f\"Testing Accuracy: {np.mean(test_y == test_y_hat)}\")"
   ]
  },
  {
   "cell_type": "markdown",
   "metadata": {},
   "source": [
    "Another useful plot that can be easily generated by scikit-learn is the confusion matrix, a heatmap between the ground-truth data labels and the labels that were chosen by the classifier. An ideal classifier has non-zero entries only on the diagonal. Here we can see that class 0 was classified perfectly, but there was less distinction between classes 1 and 2. "
   ]
  },
  {
   "cell_type": "code",
   "execution_count": 38,
   "metadata": {},
   "outputs": [
    {
     "data": {
      "image/png": "[encoded data removed]",
      "text/plain": [
       "<matplotlib.figure.Figure at 0x1246b54e0>"
      ]
     },
     "metadata": {},
     "output_type": "display_data"
    }
   ],
   "source": [
    "cm = metrics.confusion_matrix(test_y, test_y_hat)\n",
    "seaborn.heatmap(cm)\n",
    "plt.show()"
   ]
  }
 ],
 "metadata": {
  "kernelspec": {
   "display_name": "Python 3",
   "language": "python",
   "name": "python3"
  },
  "language_info": {
   "codemirror_mode": {
    "name": "ipython",
    "version": 3
   },
   "file_extension": ".py",
   "mimetype": "text/x-python",
   "name": "python",
   "nbconvert_exporter": "python",
   "pygments_lexer": "ipython3",
   "version": "3.6.1"
  }
 },
 "nbformat": 4,
 "nbformat_minor": 2
}
