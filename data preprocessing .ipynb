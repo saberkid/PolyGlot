{
 "cells": [
  {
   "cell_type": "code",
   "execution_count": 2,
   "metadata": {
    "collapsed": true
   },
   "outputs": [],
   "source": [
    "# coding=utf-8\n",
    "# from nltk.tokenize import TweetTokenizer\n",
    "# tknzr = TweetTokenizer()\n",
    "import re\n",
    "import csv\n",
    "import sys\n",
    "DATASET_TRAIN_X = 'data/train_set_x.csv'\n",
    "DATASET_TRAIN_Y = ''\n",
    "DATASET_TRAIN_X_CLEANED = 'data/train_set_x_cleaned.csv'\n",
    "\n",
    "def data_cleaner(text):\n",
    "    text = ''.join([i for i in text if not i.isdigit()])  # remove digits\n",
    "    text = text.replace('\\n','').lower()\n",
    "    text_unicode = text.decode('utf-8')\n",
    "    emoji_pattern = re.compile(\n",
    "        u\"(\\ud83d[\\ude00-\\ude4f])|\"  # emoticons\n",
    "        u\"(\\ud83c[\\udf00-\\uffff])|\"  # symbols & pictographs (1 of 2)\n",
    "        u\"(\\ud83d[\\u0000-\\uddff])|\"  # symbols & pictographs (2 of 2)\n",
    "        u\"(\\ud83d[\\ude80-\\udeff])|\"  # transport & map symbols\n",
    "        u\"(\\ud83c[\\udde0-\\uddff])\"  # flags (iOS)\n",
    "        \"+\", flags=re.UNICODE)\n",
    "    text_clean = emoji_pattern.sub(r'', text_unicode)  # no emoji\n",
    "    text_clean = ' '.join([i for i in text_clean if i != ' '])\n",
    "    return text_clean.encode('utf-8')\n",
    "\n",
    "\n",
    "def data_tokenizer():\n",
    "    with open(DATASET_TRAIN_X) as train_x, open(DATASET_TRAIN_X_CLEANED,'ab+') as train_x_cleaned:\n",
    "        r_csv = csv.reader(train_x)\n",
    "        w_csv = csv.writer(train_x_cleaned)\n",
    "        for row in r_csv:\n",
    "            text_line = row[1]\n",
    "            text_cleaned =  data_cleaner(text_line)\n",
    "            row = [row[0],text_cleaned]\n",
    "            w_csv.writerow(row)\n",
    "\n",
    "data_tokenizer()"
   ]
  },
  {
   "cell_type": "code",
   "execution_count": 10,
   "metadata": {},
   "outputs": [
    {
     "name": "stdout",
     "output_type": "stream",
     "text": [
      "141283\n"
     ]
    }
   ],
   "source": [
    "#some code to separate the language from one another in order to better encode them \n",
    "X = open(\"data/train_set_x_cleaned.csv\",\"r\")\n",
    "Y = open(\"data/train_set_y.csv\",\"r\")\n",
    "#get rid of the first line\n",
    "Slovak = []\n",
    "French = []\n",
    "Spanish = []\n",
    "German = []\n",
    "Polish = []\n",
    "Validation = []\n",
    "X.readline()\n",
    "Y.readline()\n",
    "#use 1/5 of the data as validation set\n",
    "count = 1\n",
    "for line in X:\n",
    "    lang = ((Y.readline()).split(\",\"))[1]\n",
    "    line = (line.split(\",\")[1])\n",
    "    if(count%5 == 0):\n",
    "        Validation.append(lang+\",\"+line)\n",
    "        pass\n",
    "    #0: Slovak, 1: French, 2: Spanish, 3: German, 4: Polish    \n",
    "    if(int(lang) == 0):\n",
    "        Slovak.append(line)\n",
    "    elif (int(lang) == 1):\n",
    "        French.append(line)\n",
    "    elif (int(lang) == 2):\n",
    "        Spanish.append(line)\n",
    "    elif (int(lang) == 3):\n",
    "        German.append(line)\n",
    "    elif (int(lang) == 4):\n",
    "        Polish.append(line)\n",
    "    else:\n",
    "        print (\"Alien language detected\")\n",
    "    count = count + 1\n",
    "#the splitted format will include line number\n"
   ]
  },
  {
   "cell_type": "code",
   "execution_count": null,
   "metadata": {
    "collapsed": true
   },
   "outputs": [],
   "source": [
    "#build alphabet for each language and calculate the relative frequency of each letteer "
   ]
  }
 ],
 "metadata": {
  "kernelspec": {
   "display_name": "Python 2",
   "language": "python",
   "name": "python2"
  },
  "language_info": {
   "codemirror_mode": {
    "name": "ipython",
    "version": 2
   },
   "file_extension": ".py",
   "mimetype": "text/x-python",
   "name": "python",
   "nbconvert_exporter": "python",
   "pygments_lexer": "ipython2",
   "version": "2.7.13"
  }
 },
 "nbformat": 4,
 "nbformat_minor": 2
}
